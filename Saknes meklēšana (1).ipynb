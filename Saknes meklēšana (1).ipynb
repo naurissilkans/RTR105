{
 "cells": [
  {
   "cell_type": "markdown",
   "metadata": {},
   "source": [
    "Laboratorijas darbs \"Saknes meklēšana\" Nauris Silkāns REBCO-1"
   ]
  },
  {
   "cell_type": "code",
   "execution_count": 1,
   "metadata": {},
   "outputs": [],
   "source": [
    "from math import atan, fabs\n",
    "from time import sleep\n",
    "def f(x):\n",
    "    return atan(-x)"
   ]
  },
  {
   "cell_type": "markdown",
   "metadata": {},
   "source": [
    "Argumenta robežas:"
   ]
  },
  {
   "cell_type": "code",
   "execution_count": 2,
   "metadata": {},
   "outputs": [],
   "source": [
    "a = -10\n",
    "b = 40"
   ]
  },
  {
   "cell_type": "markdown",
   "metadata": {},
   "source": [
    "Aprēķina funkcijas vērtību dotajos punktos:"
   ]
  },
  {
   "cell_type": "code",
   "execution_count": 3,
   "metadata": {},
   "outputs": [],
   "source": [
    "funa = f(a)\n",
    "funb = f(b)"
   ]
  },
  {
   "cell_type": "markdown",
   "metadata": {},
   "source": [
    "Pārbauda, vai dotajā intervālā ir saknes:"
   ]
  },
  {
   "cell_type": "code",
   "execution_count": 4,
   "metadata": {},
   "outputs": [
    {
     "name": "stdout",
     "output_type": "stream",
     "text": [
      "Dotaja intervla sakne(s) ir!\n",
      "Sakne ir: -5.7220458984375e-05\n"
     ]
    }
   ],
   "source": [
    "if(funa*funb > 0.0):\n",
    "    print(\"Dotajai funkcijai intervala [%s, %s] saknju nav\"%(a,b))\n",
    "    sleep(1); exit()\n",
    "else:\n",
    "    print(\"Dotaja intervla sakne(s) ir!\")\n",
    "#precizitāte\n",
    "deltax = 0.0001\n",
    "\n",
    "while (fabs(b-a)>deltax):\n",
    "    x=(a+b)/2; funx=f(x)\n",
    "    if(funa*funx <0.0):\n",
    "        b=x\n",
    "    else:\n",
    "        a=x\n",
    "\n",
    "print(\"Sakne ir:\",x)\n"
   ]
  }
 ],
 "metadata": {
  "kernelspec": {
   "display_name": "Python 3",
   "language": "python",
   "name": "python3"
  },
  "language_info": {
   "codemirror_mode": {
    "name": "ipython",
    "version": 3
   },
   "file_extension": ".py",
   "mimetype": "text/x-python",
   "name": "python",
   "nbconvert_exporter": "python",
   "pygments_lexer": "ipython3",
   "version": "3.7.1"
  }
 },
 "nbformat": 4,
 "nbformat_minor": 2
}
