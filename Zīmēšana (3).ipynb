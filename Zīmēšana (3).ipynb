{
 "cells": [
  {
   "cell_type": "markdown",
   "metadata": {},
   "source": [
    "Laboratorijas darbs Zīmēšana Nauris Silkāns REBCO-1"
   ]
  },
  {
   "cell_type": "markdown",
   "metadata": {},
   "source": [
    "Nosaka funkcijas izvirzījumus"
   ]
  },
  {
   "cell_type": "code",
   "execution_count": 1,
   "metadata": {},
   "outputs": [
    {
     "ename": "TypeError",
     "evalue": "only size-1 arrays can be converted to Python scalars",
     "output_type": "error",
     "traceback": [
      "\u001b[1;31m---------------------------------------------------------------------------\u001b[0m",
      "\u001b[1;31mTypeError\u001b[0m                                 Traceback (most recent call last)",
      "\u001b[1;32m<ipython-input-1-6ab8e6bf1594>\u001b[0m in \u001b[0;36m<module>\u001b[1;34m\u001b[0m\n\u001b[0;32m     12\u001b[0m \u001b[1;33m\u001b[0m\u001b[0m\n\u001b[0;32m     13\u001b[0m \u001b[0mx\u001b[0m \u001b[1;33m=\u001b[0m \u001b[0mlinspace\u001b[0m\u001b[1;33m(\u001b[0m\u001b[1;36m0\u001b[0m\u001b[1;33m,\u001b[0m \u001b[1;36m5\u001b[0m\u001b[1;33m,\u001b[0m \u001b[1;36m50\u001b[0m\u001b[1;33m)\u001b[0m\u001b[1;33m\u001b[0m\u001b[1;33m\u001b[0m\u001b[0m\n\u001b[1;32m---> 14\u001b[1;33m \u001b[0my\u001b[0m \u001b[1;33m=\u001b[0m \u001b[0matan\u001b[0m\u001b[1;33m(\u001b[0m\u001b[1;33m-\u001b[0m\u001b[0mx\u001b[0m\u001b[1;33m)\u001b[0m\u001b[1;33m;\u001b[0m \u001b[0my1\u001b[0m \u001b[1;33m=\u001b[0m \u001b[0mf1\u001b[0m\u001b[1;33m(\u001b[0m\u001b[0mx\u001b[0m\u001b[1;33m)\u001b[0m\u001b[1;33m;\u001b[0m \u001b[0my2\u001b[0m \u001b[1;33m=\u001b[0m \u001b[0mf2\u001b[0m\u001b[1;33m(\u001b[0m\u001b[0mx\u001b[0m\u001b[1;33m)\u001b[0m\u001b[1;33m;\u001b[0m \u001b[0my3\u001b[0m \u001b[1;33m=\u001b[0m \u001b[0mf3\u001b[0m\u001b[1;33m(\u001b[0m\u001b[0mx\u001b[0m\u001b[1;33m)\u001b[0m\u001b[1;33m;\u001b[0m \u001b[0my4\u001b[0m\u001b[1;33m=\u001b[0m \u001b[0mf4\u001b[0m\u001b[1;33m(\u001b[0m\u001b[0mx\u001b[0m\u001b[1;33m)\u001b[0m\u001b[1;33m;\u001b[0m\u001b[1;33m\u001b[0m\u001b[1;33m\u001b[0m\u001b[0m\n\u001b[0m\u001b[0;32m     15\u001b[0m \u001b[0mlegend\u001b[0m \u001b[1;33m=\u001b[0m \u001b[1;33m[\u001b[0m\u001b[1;33m]\u001b[0m\u001b[1;33m\u001b[0m\u001b[1;33m\u001b[0m\u001b[0m\n\u001b[0;32m     16\u001b[0m \u001b[1;33m\u001b[0m\u001b[0m\n",
      "\u001b[1;31mTypeError\u001b[0m: only size-1 arrays can be converted to Python scalars"
     ]
    }
   ],
   "source": [
    "from numpy import linspace, vectorize\n",
    "from math import atan, sqrt\n",
    "\n",
    "def f1(x):\n",
    "    return ((-x/sqrt(1+x**2)) * (1) *((x**2)/1+x**2)**0)\n",
    "def f2(x):\n",
    "    return f1(x)+((-x/sqrt(1+x**2)) * (2/12) *((x**2)/1+x**2)**1)\n",
    "def f3(x):\n",
    "    return f2(x)+((-x/sqrt(1+x**2)) * (24/320) *((x**2)/1+x**2)**2)\n",
    "def f4(x):\n",
    "    return f3(x)+((-x/sqrt(1+x**2)) * (720/16128) *((x**2)/1+x**2)**3)\n",
    "\n",
    "x = linspace(0, 5, 50)\n",
    "y = atan(-x); y1 = f1(x); y2 = f2(x); y3 = f3(x); y4= f4(x);\n",
    "legend = []\n",
    "\n"
   ]
  },
  {
   "cell_type": "markdown",
   "metadata": {},
   "source": [
    "Veic funkciju zīmēšanu"
   ]
  },
  {
   "cell_type": "code",
   "execution_count": null,
   "metadata": {},
   "outputs": [],
   "source": [
    "from matplotlib import pyplot as plt\n",
    "plt.grid()\n",
    "plt.xlabel(\"$x$\")\n",
    "plt.ylabel(\"$f(x)$\")\n",
    "plt.title(\"$arctan(-x)$ funkcija un tās izvirzījumi rindā\")\n",
    "plt.plot(x,y,color = \"#000000\"); legend.append(\"$arctan(-x)$\")\n",
    "plt.plot(x,y1,color = \"#FF0000\"); legend.append(\"$(-x/sqrt(1+x**2)) * (1) *((x**2)/1+x**2)**0$\")\n",
    "plt.plot(x,y2,color = \"#00FF00\"); legend.append(\"$(-x/sqrt(1+x**2)) * (2/12) *((x**2)/1+x**2)**0$\")\n",
    "plt.plot(x,y3,color = \"#0000FF\"); legend.append(\"$(-x/sqrt(1+x**2)) * (24/320) *((x**2)/1+x**2)**0$\")\n",
    "plt.plot(x,y4,color = \"#FFFF00\"); legend.append(\"$(-x/sqrt(1+x**2)) * (720/16128) *((x**2)/1+x**2)**0$\")\n",
    "plt.legend(legend, loc = 3)\n",
    "plt.show()\n"
   ]
  }
 ],
 "metadata": {
  "kernelspec": {
   "display_name": "Python 3",
   "language": "python",
   "name": "python3"
  },
  "language_info": {
   "codemirror_mode": {
    "name": "ipython",
    "version": 3
   },
   "file_extension": ".py",
   "mimetype": "text/x-python",
   "name": "python",
   "nbconvert_exporter": "python",
   "pygments_lexer": "ipython3",
   "version": "3.7.1"
  }
 },
 "nbformat": 4,
 "nbformat_minor": 2
}
