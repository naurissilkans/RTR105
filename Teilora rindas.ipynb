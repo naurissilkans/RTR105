{
 "cells": [
  {
   "cell_type": "markdown",
   "metadata": {},
   "source": [
    "Laboratorijas darbs Teilora rindas Nauris Silkāns REBCO-1"
   ]
  },
  {
   "cell_type": "code",
   "execution_count": 1,
   "metadata": {},
   "outputs": [],
   "source": [
    "from math import atan\n",
    "from math import sqrt\n",
    "\n",
    "def mans_arctangens(x):\n",
    "    k=0\n",
    "    while k<501:\n",
    "        if k==0:\n",
    "            a=((-x/sqrt(1+x**2)) * 1/(1) * (x**2/1+x**2)**0)\n",
    "            S=a\n",
    "            print(\"Izdruka no liet.f. a0 = %6.2f S0 = %6.2f\"%(a,S))\n",
    "        k=k+1"
   ]
  },
  {
   "cell_type": "markdown",
   "metadata": {},
   "source": [
    "   Noteiktā rekurence: R=((2*k-1)*(2*k)) * (x**2/1+x**2)**1 /(k**k)*((2*k)**2)*(2*k+1)\n",
    "   Katra nākamā elementa "
   ]
  },
  {
   "cell_type": "code",
   "execution_count": 2,
   "metadata": {},
   "outputs": [
    {
     "ename": "NameError",
     "evalue": "name 'k' is not defined",
     "output_type": "error",
     "traceback": [
      "\u001b[1;31m---------------------------------------------------------------------------\u001b[0m",
      "\u001b[1;31mNameError\u001b[0m                                 Traceback (most recent call last)",
      "\u001b[1;32m<ipython-input-2-97650b3e2165>\u001b[0m in \u001b[0;36m<module>\u001b[1;34m\u001b[0m\n\u001b[1;32m----> 1\u001b[1;33m \u001b[0mR\u001b[0m\u001b[1;33m=\u001b[0m\u001b[1;33m(\u001b[0m\u001b[1;33m(\u001b[0m\u001b[1;36m2\u001b[0m\u001b[1;33m*\u001b[0m\u001b[0mk\u001b[0m\u001b[1;33m-\u001b[0m\u001b[1;36m1\u001b[0m\u001b[1;33m)\u001b[0m\u001b[1;33m*\u001b[0m\u001b[1;33m(\u001b[0m\u001b[1;36m2\u001b[0m\u001b[1;33m*\u001b[0m\u001b[0mk\u001b[0m\u001b[1;33m)\u001b[0m\u001b[1;33m)\u001b[0m \u001b[1;33m*\u001b[0m \u001b[1;33m(\u001b[0m\u001b[0mx\u001b[0m\u001b[1;33m**\u001b[0m\u001b[1;36m2\u001b[0m\u001b[1;33m/\u001b[0m\u001b[1;36m1\u001b[0m\u001b[1;33m+\u001b[0m\u001b[0mx\u001b[0m\u001b[1;33m**\u001b[0m\u001b[1;36m2\u001b[0m\u001b[1;33m)\u001b[0m\u001b[1;33m**\u001b[0m\u001b[1;36m1\u001b[0m \u001b[1;33m/\u001b[0m\u001b[1;33m(\u001b[0m\u001b[0mk\u001b[0m\u001b[1;33m**\u001b[0m\u001b[0mk\u001b[0m\u001b[1;33m)\u001b[0m\u001b[1;33m*\u001b[0m\u001b[1;33m(\u001b[0m\u001b[1;33m(\u001b[0m\u001b[1;36m2\u001b[0m\u001b[1;33m*\u001b[0m\u001b[0mk\u001b[0m\u001b[1;33m)\u001b[0m\u001b[1;33m**\u001b[0m\u001b[1;36m2\u001b[0m\u001b[1;33m)\u001b[0m\u001b[1;33m*\u001b[0m\u001b[1;33m(\u001b[0m\u001b[1;36m2\u001b[0m\u001b[1;33m*\u001b[0m\u001b[0mk\u001b[0m\u001b[1;33m+\u001b[0m\u001b[1;36m1\u001b[0m\u001b[1;33m)\u001b[0m\u001b[1;33m\u001b[0m\u001b[1;33m\u001b[0m\u001b[0m\n\u001b[0m\u001b[0;32m      2\u001b[0m \u001b[0ma\u001b[0m\u001b[1;33m=\u001b[0m\u001b[0ma\u001b[0m\u001b[1;33m*\u001b[0m\u001b[0mR\u001b[0m\u001b[1;33m\u001b[0m\u001b[1;33m\u001b[0m\u001b[0m\n\u001b[0;32m      3\u001b[0m \u001b[0mS\u001b[0m\u001b[1;33m=\u001b[0m\u001b[0mS\u001b[0m\u001b[1;33m+\u001b[0m\u001b[0ma\u001b[0m\u001b[1;33m\u001b[0m\u001b[1;33m\u001b[0m\u001b[0m\n\u001b[0;32m      4\u001b[0m \u001b[1;32mif\u001b[0m \u001b[0mk\u001b[0m\u001b[1;33m==\u001b[0m\u001b[1;36m499\u001b[0m\u001b[1;33m:\u001b[0m\u001b[1;33m\u001b[0m\u001b[1;33m\u001b[0m\u001b[0m\n\u001b[0;32m      5\u001b[0m     \u001b[0mprint\u001b[0m\u001b[1;33m(\u001b[0m\u001b[1;34m\"Izdruka no liet.f. a%d = %6.2f S%d = %6.2f\"\u001b[0m\u001b[1;33m%\u001b[0m\u001b[1;33m(\u001b[0m\u001b[0mk\u001b[0m\u001b[1;33m,\u001b[0m\u001b[0ma\u001b[0m\u001b[1;33m,\u001b[0m\u001b[0mk\u001b[0m\u001b[1;33m,\u001b[0m\u001b[0mS\u001b[0m\u001b[1;33m)\u001b[0m\u001b[1;33m)\u001b[0m\u001b[1;33m\u001b[0m\u001b[1;33m\u001b[0m\u001b[0m\n",
      "\u001b[1;31mNameError\u001b[0m: name 'k' is not defined"
     ]
    }
   ],
   "source": [
    "        R=((2*k-1)*(2*k)) * (x**2/1+x**2)**1 /(k**k)*((2*k)**2)*(2*k+1)\n",
    "        a=a*R\n",
    "        S=S+a\n",
    "        if k==499:\n",
    "            print(\"Izdruka no liet.f. a%d = %6.2f S%d = %6.2f\"%(k,a,k,S))\n",
    "            continue\n",
    "        if k==500:\n",
    "            print(\"Izdruka no liet.f. a%d = %6.2f S%d = %6.2f\"%(k,a,k,S))\n",
    "            continue\n",
    "    return(\"artan caur summu:%6.2f\"%(S))\n",
    "x=float(input(\"Ievadiet,ludzu argumentu x: \"))\n",
    "g=atan(-x)\n",
    "print(\"atan(-%.2f)=%6.2f\"%(x,g))\n",
    "y=mans_arctangens(x)\n",
    "print(y)"
   ]
  },
  {
   "cell_type": "code",
   "execution_count": null,
   "metadata": {},
   "outputs": [],
   "source": [
    "print(y)\n",
    "print(\"                    500                                      \")\n",
    "print(\"                    ____                                     \")\n",
    "print(\"                    \\                                 2   k  \")\n",
    "print(\"              -x     \\         (2*k)!             /  x   \\   \")\n",
    "print(\"arctan(-x)= ______*   > _____________________  * ( _____  )  \")\n",
    "print(\"            |-----   /       2    k               \\    2 /   \")\n",
    "print(\"           \\|    2  /___ (k!)  * 4  *(2*k+1)        1+x      \")\n",
    "print(\"            V 1+x    k=0                                     \")\n",
    "print(\"                                                             \")\n",
    "print(\"                                                             \")\n",
    "print(\"                                      /  2  \\  1             \")\n",
    "print(\"               (2k-1)(2k)            /  x    \\               \")\n",
    "print(\" Rekurence:  ____________________ * (________ )              \")        \n",
    "print(\"                k      2             \\     2 /               \")\n",
    "print(\"               k  *(2k)   *(2k+1)     \\ 1+x /                \")"
   ]
  },
  {
   "cell_type": "code",
   "execution_count": null,
   "metadata": {},
   "outputs": [],
   "source": []
  }
 ],
 "metadata": {
  "kernelspec": {
   "display_name": "Python 3",
   "language": "python",
   "name": "python3"
  },
  "language_info": {
   "codemirror_mode": {
    "name": "ipython",
    "version": 3
   },
   "file_extension": ".py",
   "mimetype": "text/x-python",
   "name": "python",
   "nbconvert_exporter": "python",
   "pygments_lexer": "ipython3",
   "version": "3.7.1"
  }
 },
 "nbformat": 4,
 "nbformat_minor": 2
}
